{
 "cells": [
  {
   "cell_type": "code",
   "execution_count": 32,
   "id": "8b0b1e69",
   "metadata": {},
   "outputs": [],
   "source": [
    "#data manipulation\n",
    "import pandas as pd\n",
    "import numpy as np\n",
    "#plotting library\n",
    "import matplotlib.pyplot as plt  \n",
    "#AI related libraries\n",
    "from sklearn.tree import DecisionTreeClassifier\n",
    "from sklearn.linear_model import LinearRegression\n",
    "from sklearn.model_selection import train_test_split\n",
    "from sklearn.metrics import accuracy_score\n",
    "from sklearn import tree\n",
    "from sklearn import metrics\n",
    "\n",
    "#this one are just legacy imports right now\n",
    "import tensorflow as tf\n",
    "import joblib\n",
    "import time\n",
    "import os\n",
    "from datetime import date\n",
    "import csv"
   ]
  },
  {
   "cell_type": "code",
   "execution_count": 96,
   "id": "66d3ddfe",
   "metadata": {},
   "outputs": [
    {
     "data": {
      "text/html": [
       "<div>\n",
       "<style scoped>\n",
       "    .dataframe tbody tr th:only-of-type {\n",
       "        vertical-align: middle;\n",
       "    }\n",
       "\n",
       "    .dataframe tbody tr th {\n",
       "        vertical-align: top;\n",
       "    }\n",
       "\n",
       "    .dataframe thead th {\n",
       "        text-align: right;\n",
       "    }\n",
       "</style>\n",
       "<table border=\"1\" class=\"dataframe\">\n",
       "  <thead>\n",
       "    <tr style=\"text-align: right;\">\n",
       "      <th></th>\n",
       "      <th>Elevation</th>\n",
       "      <th>Aspect</th>\n",
       "      <th>Slope</th>\n",
       "      <th>Horizontal_Distance_To_Hydrology</th>\n",
       "      <th>Vertical_Distance_To_Hydrology</th>\n",
       "      <th>Horizontal_Distance_To_Roadways</th>\n",
       "      <th>Hillshade_9am</th>\n",
       "      <th>Hillshade_Noon</th>\n",
       "      <th>Hillshade_3pm</th>\n",
       "      <th>Horizontal_Distance_To_Fire_Points</th>\n",
       "      <th>...</th>\n",
       "      <th>Soil_Type32</th>\n",
       "      <th>Soil_Type33</th>\n",
       "      <th>Soil_Type34</th>\n",
       "      <th>Soil_Type35</th>\n",
       "      <th>Soil_Type36</th>\n",
       "      <th>Soil_Type37</th>\n",
       "      <th>Soil_Type38</th>\n",
       "      <th>Soil_Type39</th>\n",
       "      <th>Soil_Type40</th>\n",
       "      <th>Cover_Type</th>\n",
       "    </tr>\n",
       "  </thead>\n",
       "  <tbody>\n",
       "    <tr>\n",
       "      <th>0</th>\n",
       "      <td>2596</td>\n",
       "      <td>51</td>\n",
       "      <td>3</td>\n",
       "      <td>258</td>\n",
       "      <td>0</td>\n",
       "      <td>510</td>\n",
       "      <td>221</td>\n",
       "      <td>232</td>\n",
       "      <td>148</td>\n",
       "      <td>6279</td>\n",
       "      <td>...</td>\n",
       "      <td>0</td>\n",
       "      <td>0</td>\n",
       "      <td>0</td>\n",
       "      <td>0</td>\n",
       "      <td>0</td>\n",
       "      <td>0</td>\n",
       "      <td>0</td>\n",
       "      <td>0</td>\n",
       "      <td>0</td>\n",
       "      <td>5</td>\n",
       "    </tr>\n",
       "    <tr>\n",
       "      <th>1</th>\n",
       "      <td>2590</td>\n",
       "      <td>56</td>\n",
       "      <td>2</td>\n",
       "      <td>212</td>\n",
       "      <td>-6</td>\n",
       "      <td>390</td>\n",
       "      <td>220</td>\n",
       "      <td>235</td>\n",
       "      <td>151</td>\n",
       "      <td>6225</td>\n",
       "      <td>...</td>\n",
       "      <td>0</td>\n",
       "      <td>0</td>\n",
       "      <td>0</td>\n",
       "      <td>0</td>\n",
       "      <td>0</td>\n",
       "      <td>0</td>\n",
       "      <td>0</td>\n",
       "      <td>0</td>\n",
       "      <td>0</td>\n",
       "      <td>5</td>\n",
       "    </tr>\n",
       "    <tr>\n",
       "      <th>2</th>\n",
       "      <td>2804</td>\n",
       "      <td>139</td>\n",
       "      <td>9</td>\n",
       "      <td>268</td>\n",
       "      <td>65</td>\n",
       "      <td>3180</td>\n",
       "      <td>234</td>\n",
       "      <td>238</td>\n",
       "      <td>135</td>\n",
       "      <td>6121</td>\n",
       "      <td>...</td>\n",
       "      <td>0</td>\n",
       "      <td>0</td>\n",
       "      <td>0</td>\n",
       "      <td>0</td>\n",
       "      <td>0</td>\n",
       "      <td>0</td>\n",
       "      <td>0</td>\n",
       "      <td>0</td>\n",
       "      <td>0</td>\n",
       "      <td>2</td>\n",
       "    </tr>\n",
       "    <tr>\n",
       "      <th>3</th>\n",
       "      <td>2785</td>\n",
       "      <td>155</td>\n",
       "      <td>18</td>\n",
       "      <td>242</td>\n",
       "      <td>118</td>\n",
       "      <td>3090</td>\n",
       "      <td>238</td>\n",
       "      <td>238</td>\n",
       "      <td>122</td>\n",
       "      <td>6211</td>\n",
       "      <td>...</td>\n",
       "      <td>0</td>\n",
       "      <td>0</td>\n",
       "      <td>0</td>\n",
       "      <td>0</td>\n",
       "      <td>0</td>\n",
       "      <td>0</td>\n",
       "      <td>0</td>\n",
       "      <td>0</td>\n",
       "      <td>0</td>\n",
       "      <td>2</td>\n",
       "    </tr>\n",
       "    <tr>\n",
       "      <th>4</th>\n",
       "      <td>2595</td>\n",
       "      <td>45</td>\n",
       "      <td>2</td>\n",
       "      <td>153</td>\n",
       "      <td>-1</td>\n",
       "      <td>391</td>\n",
       "      <td>220</td>\n",
       "      <td>234</td>\n",
       "      <td>150</td>\n",
       "      <td>6172</td>\n",
       "      <td>...</td>\n",
       "      <td>0</td>\n",
       "      <td>0</td>\n",
       "      <td>0</td>\n",
       "      <td>0</td>\n",
       "      <td>0</td>\n",
       "      <td>0</td>\n",
       "      <td>0</td>\n",
       "      <td>0</td>\n",
       "      <td>0</td>\n",
       "      <td>5</td>\n",
       "    </tr>\n",
       "  </tbody>\n",
       "</table>\n",
       "<p>5 rows × 55 columns</p>\n",
       "</div>"
      ],
      "text/plain": [
       "   Elevation  Aspect  Slope  Horizontal_Distance_To_Hydrology  \\\n",
       "0       2596      51      3                               258   \n",
       "1       2590      56      2                               212   \n",
       "2       2804     139      9                               268   \n",
       "3       2785     155     18                               242   \n",
       "4       2595      45      2                               153   \n",
       "\n",
       "   Vertical_Distance_To_Hydrology  Horizontal_Distance_To_Roadways  \\\n",
       "0                               0                              510   \n",
       "1                              -6                              390   \n",
       "2                              65                             3180   \n",
       "3                             118                             3090   \n",
       "4                              -1                              391   \n",
       "\n",
       "   Hillshade_9am  Hillshade_Noon  Hillshade_3pm  \\\n",
       "0            221             232            148   \n",
       "1            220             235            151   \n",
       "2            234             238            135   \n",
       "3            238             238            122   \n",
       "4            220             234            150   \n",
       "\n",
       "   Horizontal_Distance_To_Fire_Points  ...  Soil_Type32  Soil_Type33  \\\n",
       "0                                6279  ...            0            0   \n",
       "1                                6225  ...            0            0   \n",
       "2                                6121  ...            0            0   \n",
       "3                                6211  ...            0            0   \n",
       "4                                6172  ...            0            0   \n",
       "\n",
       "   Soil_Type34  Soil_Type35  Soil_Type36  Soil_Type37  Soil_Type38  \\\n",
       "0            0            0            0            0            0   \n",
       "1            0            0            0            0            0   \n",
       "2            0            0            0            0            0   \n",
       "3            0            0            0            0            0   \n",
       "4            0            0            0            0            0   \n",
       "\n",
       "   Soil_Type39  Soil_Type40  Cover_Type  \n",
       "0            0            0           5  \n",
       "1            0            0           5  \n",
       "2            0            0           2  \n",
       "3            0            0           2  \n",
       "4            0            0           5  \n",
       "\n",
       "[5 rows x 55 columns]"
      ]
     },
     "execution_count": 96,
     "metadata": {},
     "output_type": "execute_result"
    }
   ],
   "source": [
    "#loading dataset\n",
    "dataset = pd.read_csv(\"treeCovDataset/covtype.csv\")\n",
    "dataset.head()"
   ]
  },
  {
   "cell_type": "markdown",
   "id": "78beaa74",
   "metadata": {},
   "source": [
    "# Discovering and cleaning data"
   ]
  },
  {
   "cell_type": "code",
   "execution_count": 44,
   "id": "5eb42d58",
   "metadata": {},
   "outputs": [],
   "source": [
    "#this function checks if any field in dataset is empty and return True or False\n",
    "def checkIfDatasetIsClean(dataset, verbose = 0):\n",
    "    flag = False\n",
    "    fields = []\n",
    "    for i in dataset.isnull().any():\n",
    "        if i == False:\n",
    "            pass\n",
    "        else:\n",
    "            flag = True\n",
    "    if flag:\n",
    "        if verbose >= 1:\n",
    "            print(\"There are null fields in dataset\")\n",
    "        return False\n",
    "    else:\n",
    "        if verbose >= 1:\n",
    "            print(\"Dataset is clean\")\n",
    "        return True"
   ]
  },
  {
   "cell_type": "code",
   "execution_count": 45,
   "id": "02c4042c",
   "metadata": {},
   "outputs": [
    {
     "data": {
      "text/plain": [
       "True"
      ]
     },
     "execution_count": 45,
     "metadata": {},
     "output_type": "execute_result"
    }
   ],
   "source": [
    "checkIfDatasetIsClean(dataset)"
   ]
  },
  {
   "cell_type": "code",
   "execution_count": 109,
   "id": "2de27219",
   "metadata": {},
   "outputs": [
    {
     "data": {
      "text/plain": [
       "<AxesSubplot:>"
      ]
     },
     "execution_count": 109,
     "metadata": {},
     "output_type": "execute_result"
    },
    {
     "data": {
      "image/png": "[encoded data removed]",
      "text/plain": [
       "<Figure size 432x288 with 1 Axes>"
      ]
     },
     "metadata": {
      "needs_background": "light"
     },
     "output_type": "display_data"
    }
   ],
   "source": [
    "dataset.Elevation.hist(bins=20)"
   ]
  },
  {
   "cell_type": "raw",
   "id": "196578bd",
   "metadata": {},
   "source": [
    "Most trees are located at elevation of 3000 metres  "
   ]
  },
  {
   "cell_type": "code",
   "execution_count": 111,
   "id": "4b58e0ba",
   "metadata": {},
   "outputs": [
    {
     "data": {
      "text/plain": [
       "<AxesSubplot:>"
      ]
     },
     "execution_count": 111,
     "metadata": {},
     "output_type": "execute_result"
    },
    {
     "data": {
      "image/png": "[encoded data removed]",
      "text/plain": [
       "<Figure size 432x288 with 1 Axes>"
      ]
     },
     "metadata": {
      "needs_background": "light"
     },
     "output_type": "display_data"
    }
   ],
   "source": [
    "dataset.Cover_Type.value_counts().plot(kind='barh')"
   ]
  },
  {
   "cell_type": "raw",
   "id": "69ed4447",
   "metadata": {},
   "source": [
    "Bar above show that there are present 2 majorities of tree "
   ]
  },
  {
   "cell_type": "markdown",
   "id": "bbb1049d",
   "metadata": {},
   "source": [
    "# Preparing data for Decision tree and linear regression"
   ]
  },
  {
   "cell_type": "code",
   "execution_count": 47,
   "id": "a9f75231",
   "metadata": {},
   "outputs": [],
   "source": [
    "# selecting only numeric data from dataset\n",
    "# if there are non numerical data in dataset I would need to \n",
    "# sumpliment them with numerical data I would need to introduce vocabulary\n",
    "# and convert all data \n",
    "# example code for that is bellow:\n",
    "#  code from: https://www.tensorflow.org/tutorials/estimator/linear\n",
    "#     CATEGORICAL_COLUMNS = ['sex', 'n_siblings_spouses', 'parch', 'class', 'deck',\n",
    "#                        'embark_town', 'alone']\n",
    "#     NUMERIC_COLUMNS = ['age', 'fare']\n",
    "\n",
    "#     feature_columns = []\n",
    "#     for feature_name in CATEGORICAL_COLUMNS:\n",
    "#       vocabulary = dftrain[feature_name].unique()\n",
    "#       feature_columns.append(tf.feature_column.categorical_column_with_vocabulary_list(feature_name, vocabulary))\n",
    "\n",
    "#     for feature_name in NUMERIC_COLUMNS:\n",
    "#       feature_columns.append(tf.feature_column.numeric_column(feature_name, dtype=tf.float32))\n",
    "\n",
    "#this one selects only numerical data from dataset\n",
    "# dataset = dataset.select_dtypes(include=['int', 'float'])\n",
    "# splitting data into feature colums and label column.\n",
    "\n",
    "X = dataset.drop(columns=[\"Cover_Type\"]) # feature set\n",
    "y = dataset['Cover_Type'] # label set"
   ]
  },
  {
   "cell_type": "code",
   "execution_count": 54,
   "id": "39acd109",
   "metadata": {},
   "outputs": [],
   "source": [
    "# splitting data in training and testing, introducing random_state here to keep dataset same for \n",
    "# multiple runs to gain same results\n",
    "X_train, X_test, y_train, y_test = train_test_split(X, y, test_size=0.2, random_state=0)"
   ]
  },
  {
   "cell_type": "code",
   "execution_count": 55,
   "id": "ccecdd3c",
   "metadata": {},
   "outputs": [
    {
     "data": {
      "text/plain": [
       "LinearRegression()"
      ]
     },
     "execution_count": 55,
     "metadata": {},
     "output_type": "execute_result"
    }
   ],
   "source": [
    "# creating decision tree model\n",
    "modelDT = DecisionTreeClassifier()\n",
    "modelDT.fit(X_train,y_train)\n",
    "# creatinf linear regresion model\n",
    "modelLR = LinearRegression()  \n",
    "modelLR.fit(X_train, y_train)"
   ]
  },
  {
   "cell_type": "code",
   "execution_count": 56,
   "id": "af0a0852",
   "metadata": {},
   "outputs": [
    {
     "name": "stdout",
     "output_type": "stream",
     "text": [
      "accuracy score of decision tree model: 0.9396315069318348\n"
     ]
    }
   ],
   "source": [
    "#predicting and evaluating decision tree\n",
    "predictionDT = modelDT.predict(X_test)\n",
    "scoreDT = accuracy_score(y_test, predictionDT)\n",
    "\n",
    "print(\"accuracy score of decision tree model: \" + str(scoreDT))"
   ]
  },
  {
   "cell_type": "code",
   "execution_count": 57,
   "id": "f991b6d8",
   "metadata": {},
   "outputs": [
    {
     "data": {
      "image/png": "[encoded data removed]",
      "text/plain": [
       "<Figure size 720x576 with 1 Axes>"
      ]
     },
     "metadata": {
      "needs_background": "light"
     },
     "output_type": "display_data"
    },
    {
     "name": "stdout",
     "output_type": "stream",
     "text": [
      "Mean: 2.052847172620328\n",
      "Root Mean Squared Error: 1.148463385730019\n"
     ]
    }
   ],
   "source": [
    "# PRedicting and evaluating linear regresion algorithm\n",
    "y_predLR = modelLR.predict(X_test)\n",
    "df_compare = pd.DataFrame({'Actual': y_test, 'Predicted': y_predLR})\n",
    "df_head = df_compare.head(25)\n",
    "df_head.plot(kind='bar',figsize=(10,8))\n",
    "plt.grid(which='major', linestyle='-', linewidth='0.5', color='green')\n",
    "plt.grid(which='minor', linestyle=':', linewidth='0.5', color='black')\n",
    "plt.show()\n",
    "\n",
    "print('Mean:', np.mean(y_test))\n",
    "print('Root Mean Squared Error:', np.sqrt(metrics.mean_squared_error(y_test, y_predLR)))"
   ]
  },
  {
   "cell_type": "code",
   "execution_count": 58,
   "id": "91d50015",
   "metadata": {},
   "outputs": [
    {
     "data": {
      "image/png": "[encoded data removed]",
      "text/plain": [
       "<Figure size 432x288 with 1 Axes>"
      ]
     },
     "metadata": {
      "needs_background": "light"
     },
     "output_type": "display_data"
    }
   ],
   "source": [
    "# Regression chart.\n",
    "def chart_regression(pred, y, sort=True):\n",
    "    t = pd.DataFrame({'pred': pred, 'y': y})\n",
    "    if sort:\n",
    "        t.sort_values(by=['y'], inplace=True)\n",
    "    plt.plot(t['y'].tolist(), label='expected')\n",
    "    plt.plot(t['pred'].tolist(), label='prediction')\n",
    "    plt.ylabel('output')\n",
    "    plt.legend()\n",
    "    plt.show()\n",
    "    \n",
    "chart_regression(y_predLR[:100].flatten(),y_test[:100],sort=True) "
   ]
  },
  {
   "cell_type": "code",
   "execution_count": 89,
   "id": "dc606f5e",
   "metadata": {},
   "outputs": [],
   "source": [
    "from collections import defaultdict\n",
    "#this funcion find out best split for decision tree and linear regresion\n",
    "def findOptimalSplitOfData(X, y, verbose = 0, minSize = 10, maxSize= 94, step = 2, models = [\"decisionTree\",\"linear regresion\"]):\n",
    "    if verbose == 1:\n",
    "        print(f\"Running test for {models}. \\nMinimum test size: {minSize}%\\nMaximum test size: {maxSize}%\")\n",
    "    DTscore = defaultdict(list)\n",
    "    LRmean = defaultdict(list)\n",
    "    LRsqrterror = defaultdict(list)\n",
    "    for testSize in range(minSize, maxSize, step):\n",
    "        listDT= []\n",
    "        listLRmean = []\n",
    "        listLRsqrt = []\n",
    "        for randomState in range (0,11):\n",
    "            X_train, X_test, y_train, y_test = train_test_split(X, y, test_size=testSize/100, random_state=randomState)\n",
    "            #decision tree calculation\n",
    "            modelDT = DecisionTreeClassifier()\n",
    "            modelDT.fit(X_train,y_train)\n",
    "            predictionDT = modelDT.predict(X_test)\n",
    "            scoreDT = accuracy_score(y_test, predictionDT)\n",
    "            listDT.append(scoreDT)\n",
    "            #linear regresion calculation\n",
    "            modelLR = LinearRegression()  \n",
    "            modelLR.fit(X_train, y_train)\n",
    "            y_predLR = modelLR.predict(X_test)\n",
    "            listLRmean.append(np.mean(y_test))\n",
    "            listLRsqrt.append(np.sqrt(metrics.mean_squared_error(y_test, y_predLR)))\n",
    "            \n",
    "            \n",
    "        DTscore[testSize].append(( sum(listDT)/ len(listDT) ) )\n",
    "        LRmean[testSize].append(sum(listLRmean)/ len(listLRmean))\n",
    "        LRsqrterror[testSize]. append(sum(listLRsqrt)/ len(listLRsqrt))\n",
    "        \n",
    "    print(f\"Best split for decision tree is: {max(DTscore, key=DTscore.get)}\")  \n",
    "    print(f\"Best split for linear regresion is (sqrtError): {min(LRsqrterror, key = LRsqrterror.get)}\")\n",
    "    print(f\"Best split for linear regresion is (meanError): {min(LRmean, key = LRmean.get)}\")\n",
    "    return [DTscore, LRmean, LRsqrterror]\n",
    "        \n",
    "        "
   ]
  },
  {
   "cell_type": "code",
   "execution_count": 90,
   "id": "1d193f6b",
   "metadata": {},
   "outputs": [
    {
     "name": "stdout",
     "output_type": "stream",
     "text": [
      "Running test for ['decisionTree', 'linear regresion']. \n",
      "Minimum test size: 10%\n",
      "Maximum test size: 94%\n",
      "Best split for decision tree is: 10\n",
      "Best split for linear regresion is (sqrtError): 40\n",
      "Best split for linear regresion is (meanError): 50\n",
      "[defaultdict(<class 'list'>, {10: [0.9427621017583497], 12: [0.9422863788917545], 14: [0.941668287209336], 16: [0.9404742113590892], 18: [0.9399772081852344], 20: [0.9393631677479771], 22: [0.9384624903897648], 24: [0.937604351859639], 26: [0.9368852695786974], 28: [0.9360651212277677], 30: [0.9353073835472402], 32: [0.9342204341558916], 34: [0.9332414478634327], 36: [0.9318576243635409], 38: [0.9310159822287004], 40: [0.9297668059871973], 42: [0.9286074583706803], 44: [0.9271304140028861], 46: [0.9257722813431358], 48: [0.924342823688793], 50: [0.9233037277277328], 52: [0.9219235619458043], 54: [0.920200613290906], 56: [0.9183266336726891], 58: [0.9165157976150685], 60: [0.914452231837375], 62: [0.9122015652712879], 64: [0.9100805607765442], 66: [0.9078085927757868], 68: [0.9051424316592418], 70: [0.9023353530187656], 72: [0.8984005412008251], 74: [0.895134708366045], 76: [0.8909482075322145], 78: [0.8864132844141228], 80: [0.8808596278831428], 82: [0.8758781696443054], 84: [0.868632581431039], 86: [0.8614048043612695], 88: [0.8512754078312635], 90: [0.8401015921186659], 92: [0.8256990141928743]}), defaultdict(<class 'list'>, {10: [2.051600476904253], 12: [2.0511629301824654], 14: [2.0508537465828907], 16: [2.0520769972481423], 18: [2.0514310947459737], 20: [2.051585274359213], 22: [2.05120219508084], 24: [2.050746704583756], 26: [2.0508953459821964], 28: [2.0508526289672564], 30: [2.051162962932056], 32: [2.051044806186692], 34: [2.0511915581950255], 36: [2.0510619063244984], 38: [2.050695555322228], 40: [2.0504871003010026], 42: [2.0505423043595203], 44: [2.0504500897192357], 46: [2.050629505640618], 48: [2.0504549594392754], 50: [2.0504192371554835], 52: [2.050507658278563], 54: [2.0507710758262956], 56: [2.050953370976606], 58: [2.051049716781629], 60: [2.05107455939049], 62: [2.051244312945236], 64: [2.051287085045502], 66: [2.051243816006456], 68: [2.051362650394767], 70: [2.051256437761285], 72: [2.0512799951495335], 74: [2.0513986965473077], 76: [2.0514309478369537], 78: [2.051450625766034], 80: [2.0514781210699975], 82: [2.051626395559397], 84: [2.0515532933313043], 86: [2.051460224464061], 88: [2.051583860534145], 90: [2.051692266074828], 92: [2.051755044174581]}), defaultdict(<class 'list'>, {10: [1.1520344743166957], 12: [1.151388341241395], 14: [1.1511796514795096], 16: [1.1513417809251714], 18: [1.151109707864275], 20: [1.151234370792162], 22: [1.1511355596902872], 24: [1.1510740874518655], 26: [1.1509945750479835], 28: [1.1511040448163117], 30: [1.1512461810228245], 32: [1.151247139771664], 34: [1.1513523392266665], 36: [1.1511012732391306], 38: [1.1508650192126941], 40: [1.1507391140951555], 42: [1.150902774207344], 44: [1.1510110808011758], 46: [1.151141969486614], 48: [1.1509944117614075], 50: [1.1511407572064576], 52: [1.1512215776212285], 54: [1.151561875803076], 56: [1.1516733312337453], 58: [1.1517873872360338], 60: [1.151813493497134], 62: [1.1522009701507476], 64: [1.1523698248809058], 66: [1.152438206153182], 68: [1.1525224141364065], 70: [1.1525030725830097], 72: [1.1526335311395695], 74: [1.1527585482568792], 76: [1.1526460100354294], 78: [1.1527400318894871], 80: [1.1527851676192584], 82: [1.1529682496537605], 84: [1.152980687195025], 86: [1.1528993650658574], 88: [1.1529505585005697], 90: [1.1531276920567406], 92: [1.1534770454176695]})]\n"
     ]
    }
   ],
   "source": [
    "print (findOptimalSplitOfData(X, y, verbose=1))"
   ]
  },
  {
   "cell_type": "markdown",
   "id": "e6c60cea",
   "metadata": {},
   "source": [
    "# Neuron network training  "
   ]
  },
  {
   "cell_type": "code",
   "execution_count": 91,
   "id": "c0d70fb7",
   "metadata": {},
   "outputs": [],
   "source": [
    "from tensorflow.keras.models import Sequential\n",
    "from tensorflow.keras.layers import Dense\n",
    "\n",
    "import pandas as pd\n",
    "import io\n",
    "import os\n",
    "import requests\n",
    "import numpy as np\n",
    "from sklearn import metrics\n",
    "from sklearn.model_selection import train_test_split"
   ]
  },
  {
   "cell_type": "code",
   "execution_count": 97,
   "id": "aff9ca4f",
   "metadata": {},
   "outputs": [
    {
     "data": {
      "text/html": [
       "<div>\n",
       "<style scoped>\n",
       "    .dataframe tbody tr th:only-of-type {\n",
       "        vertical-align: middle;\n",
       "    }\n",
       "\n",
       "    .dataframe tbody tr th {\n",
       "        vertical-align: top;\n",
       "    }\n",
       "\n",
       "    .dataframe thead th {\n",
       "        text-align: right;\n",
       "    }\n",
       "</style>\n",
       "<table border=\"1\" class=\"dataframe\">\n",
       "  <thead>\n",
       "    <tr style=\"text-align: right;\">\n",
       "      <th></th>\n",
       "      <th>Elevation</th>\n",
       "      <th>Aspect</th>\n",
       "      <th>Slope</th>\n",
       "      <th>Horizontal_Distance_To_Hydrology</th>\n",
       "      <th>Vertical_Distance_To_Hydrology</th>\n",
       "      <th>Horizontal_Distance_To_Roadways</th>\n",
       "      <th>Hillshade_9am</th>\n",
       "      <th>Hillshade_Noon</th>\n",
       "      <th>Hillshade_3pm</th>\n",
       "      <th>Horizontal_Distance_To_Fire_Points</th>\n",
       "      <th>...</th>\n",
       "      <th>Soil_Type32</th>\n",
       "      <th>Soil_Type33</th>\n",
       "      <th>Soil_Type34</th>\n",
       "      <th>Soil_Type35</th>\n",
       "      <th>Soil_Type36</th>\n",
       "      <th>Soil_Type37</th>\n",
       "      <th>Soil_Type38</th>\n",
       "      <th>Soil_Type39</th>\n",
       "      <th>Soil_Type40</th>\n",
       "      <th>Cover_Type</th>\n",
       "    </tr>\n",
       "  </thead>\n",
       "  <tbody>\n",
       "    <tr>\n",
       "      <th>0</th>\n",
       "      <td>2596</td>\n",
       "      <td>51</td>\n",
       "      <td>3</td>\n",
       "      <td>258</td>\n",
       "      <td>0</td>\n",
       "      <td>510</td>\n",
       "      <td>221</td>\n",
       "      <td>232</td>\n",
       "      <td>148</td>\n",
       "      <td>6279</td>\n",
       "      <td>...</td>\n",
       "      <td>0</td>\n",
       "      <td>0</td>\n",
       "      <td>0</td>\n",
       "      <td>0</td>\n",
       "      <td>0</td>\n",
       "      <td>0</td>\n",
       "      <td>0</td>\n",
       "      <td>0</td>\n",
       "      <td>0</td>\n",
       "      <td>5</td>\n",
       "    </tr>\n",
       "    <tr>\n",
       "      <th>1</th>\n",
       "      <td>2590</td>\n",
       "      <td>56</td>\n",
       "      <td>2</td>\n",
       "      <td>212</td>\n",
       "      <td>-6</td>\n",
       "      <td>390</td>\n",
       "      <td>220</td>\n",
       "      <td>235</td>\n",
       "      <td>151</td>\n",
       "      <td>6225</td>\n",
       "      <td>...</td>\n",
       "      <td>0</td>\n",
       "      <td>0</td>\n",
       "      <td>0</td>\n",
       "      <td>0</td>\n",
       "      <td>0</td>\n",
       "      <td>0</td>\n",
       "      <td>0</td>\n",
       "      <td>0</td>\n",
       "      <td>0</td>\n",
       "      <td>5</td>\n",
       "    </tr>\n",
       "    <tr>\n",
       "      <th>2</th>\n",
       "      <td>2804</td>\n",
       "      <td>139</td>\n",
       "      <td>9</td>\n",
       "      <td>268</td>\n",
       "      <td>65</td>\n",
       "      <td>3180</td>\n",
       "      <td>234</td>\n",
       "      <td>238</td>\n",
       "      <td>135</td>\n",
       "      <td>6121</td>\n",
       "      <td>...</td>\n",
       "      <td>0</td>\n",
       "      <td>0</td>\n",
       "      <td>0</td>\n",
       "      <td>0</td>\n",
       "      <td>0</td>\n",
       "      <td>0</td>\n",
       "      <td>0</td>\n",
       "      <td>0</td>\n",
       "      <td>0</td>\n",
       "      <td>2</td>\n",
       "    </tr>\n",
       "    <tr>\n",
       "      <th>3</th>\n",
       "      <td>2785</td>\n",
       "      <td>155</td>\n",
       "      <td>18</td>\n",
       "      <td>242</td>\n",
       "      <td>118</td>\n",
       "      <td>3090</td>\n",
       "      <td>238</td>\n",
       "      <td>238</td>\n",
       "      <td>122</td>\n",
       "      <td>6211</td>\n",
       "      <td>...</td>\n",
       "      <td>0</td>\n",
       "      <td>0</td>\n",
       "      <td>0</td>\n",
       "      <td>0</td>\n",
       "      <td>0</td>\n",
       "      <td>0</td>\n",
       "      <td>0</td>\n",
       "      <td>0</td>\n",
       "      <td>0</td>\n",
       "      <td>2</td>\n",
       "    </tr>\n",
       "    <tr>\n",
       "      <th>4</th>\n",
       "      <td>2595</td>\n",
       "      <td>45</td>\n",
       "      <td>2</td>\n",
       "      <td>153</td>\n",
       "      <td>-1</td>\n",
       "      <td>391</td>\n",
       "      <td>220</td>\n",
       "      <td>234</td>\n",
       "      <td>150</td>\n",
       "      <td>6172</td>\n",
       "      <td>...</td>\n",
       "      <td>0</td>\n",
       "      <td>0</td>\n",
       "      <td>0</td>\n",
       "      <td>0</td>\n",
       "      <td>0</td>\n",
       "      <td>0</td>\n",
       "      <td>0</td>\n",
       "      <td>0</td>\n",
       "      <td>0</td>\n",
       "      <td>5</td>\n",
       "    </tr>\n",
       "  </tbody>\n",
       "</table>\n",
       "<p>5 rows × 55 columns</p>\n",
       "</div>"
      ],
      "text/plain": [
       "   Elevation  Aspect  Slope  Horizontal_Distance_To_Hydrology  \\\n",
       "0       2596      51      3                               258   \n",
       "1       2590      56      2                               212   \n",
       "2       2804     139      9                               268   \n",
       "3       2785     155     18                               242   \n",
       "4       2595      45      2                               153   \n",
       "\n",
       "   Vertical_Distance_To_Hydrology  Horizontal_Distance_To_Roadways  \\\n",
       "0                               0                              510   \n",
       "1                              -6                              390   \n",
       "2                              65                             3180   \n",
       "3                             118                             3090   \n",
       "4                              -1                              391   \n",
       "\n",
       "   Hillshade_9am  Hillshade_Noon  Hillshade_3pm  \\\n",
       "0            221             232            148   \n",
       "1            220             235            151   \n",
       "2            234             238            135   \n",
       "3            238             238            122   \n",
       "4            220             234            150   \n",
       "\n",
       "   Horizontal_Distance_To_Fire_Points  ...  Soil_Type32  Soil_Type33  \\\n",
       "0                                6279  ...            0            0   \n",
       "1                                6225  ...            0            0   \n",
       "2                                6121  ...            0            0   \n",
       "3                                6211  ...            0            0   \n",
       "4                                6172  ...            0            0   \n",
       "\n",
       "   Soil_Type34  Soil_Type35  Soil_Type36  Soil_Type37  Soil_Type38  \\\n",
       "0            0            0            0            0            0   \n",
       "1            0            0            0            0            0   \n",
       "2            0            0            0            0            0   \n",
       "3            0            0            0            0            0   \n",
       "4            0            0            0            0            0   \n",
       "\n",
       "   Soil_Type39  Soil_Type40  Cover_Type  \n",
       "0            0            0           5  \n",
       "1            0            0           5  \n",
       "2            0            0           2  \n",
       "3            0            0           2  \n",
       "4            0            0           5  \n",
       "\n",
       "[5 rows x 55 columns]"
      ]
     },
     "execution_count": 97,
     "metadata": {},
     "output_type": "execute_result"
    }
   ],
   "source": [
    "# dataset = pd.read_csv(\"/content/drive/MyDrive/treeCovDataset/covtype.csv\")\n",
    "dataset.head()"
   ]
  },
  {
   "cell_type": "code",
   "execution_count": 93,
   "id": "371e5966",
   "metadata": {},
   "outputs": [],
   "source": [
    "#This code is from lecture slides without any change\n",
    "# Convert a Pandas dataframe to the X,y inputs that Keras needs\n",
    "def to_xy(df, target):\n",
    "    result = []\n",
    "    for x in df.columns:\n",
    "        if x != target:\n",
    "            result.append(x)\n",
    "    # find out the type of the target column.  Is it really this hard? :(\n",
    "    target_type = df[target].dtypes\n",
    "    target_type = target_type[0] if hasattr(\n",
    "        target_type, '__iter__') else target_type\n",
    "    # Encode to int for classification, float otherwise. TensorFlow likes 32 bits.\n",
    "    if target_type in (np.int64, np.int32):\n",
    "        # Classification\n",
    "        dummies = pd.get_dummies(df[target])\n",
    "        print(\"returning for classification\")\n",
    "        return df[result].values.astype(np.float32), dummies.values.astype(np.float32)\n",
    "    # Regression\n",
    "    print(\"Returning for regression\")\n",
    "    return df[result].values.astype(np.float32), df[[target]].values.astype(np.float32)\n"
   ]
  },
  {
   "cell_type": "code",
   "execution_count": 98,
   "id": "09f3c2bf",
   "metadata": {},
   "outputs": [
    {
     "name": "stdout",
     "output_type": "stream",
     "text": [
      "returning for classification\n"
     ]
    }
   ],
   "source": [
    "#dataset = dataset.select_dtypes(include=['int', 'float'])\n",
    "X,y = to_xy(dataset, \"Cover_Type\")\n"
   ]
  },
  {
   "cell_type": "code",
   "execution_count": 99,
   "id": "2ea250ad",
   "metadata": {},
   "outputs": [],
   "source": [
    "X_train, X_test, y_train, y_test = train_test_split(X, y, test_size=0.25, random_state=0)\n",
    "assert len(X_train) == len(y_train)\n",
    "assert len(X_test) == len(y_test)"
   ]
  },
  {
   "cell_type": "code",
   "execution_count": null,
   "id": "08a5805a",
   "metadata": {},
   "outputs": [],
   "source": [
    "# First model of NN\n",
    "modelNN = Sequential()\n",
    "modelNN.add(Dense(32, input_shape=X[1].shape, activation='sigmoid')) # Hidden 1\n",
    "modelNN.add(Dense(7)) # Output\n",
    "modelNN.summary() #note, only works if input shape specified, or Input layer given\n",
    "modelNN.compile(loss='mean_squared_error', optimizer='adam')\n",
    "modelNN.fit(X_train,y_train,verbose=2,epochs=10)\n",
    "pred = modelNN.predict(X_test)\n",
    "score = np.sqrt(metrics.mean_squared_error(pred, y_test))\n",
    "print(f\"Final score (RMSE): {score}\")\n",
    "modelNN.summary()"
   ]
  },
  {
   "cell_type": "markdown",
   "id": "e49606aa",
   "metadata": {},
   "source": [
    "# Optimalizing and results\n",
    "Cells bellow take while to execute.\n",
    "Execution was run on google collab with Google RAM and CPU\n",
    "share link to notebook: https://colab.research.google.com/drive/1NhyWhTXXufcPzz_NN0g-3GFhmzOw1On1?usp=sharing"
   ]
  },
  {
   "cell_type": "code",
   "execution_count": null,
   "id": "22a28e30",
   "metadata": {},
   "outputs": [],
   "source": [
    "from collections import defaultdict\n",
    "# Ole layer with sigmoid activation function\n",
    "def NNoptimalResultwithOneLayer(X, y, minNodes = 32, maxNodes = 650, step = 32):\n",
    "  X_train, X_test, y_train, y_test = train_test_split(X, y, test_size=0.25, random_state=0)\n",
    "  NNscore = defaultdict(list)\n",
    "  for nodes in range(minNodes, maxNodes, step):\n",
    "    modelNN = Sequential()\n",
    "    modelNN.add(Dense(nodes, input_shape=X[1].shape, activation='sigmoid')) # Hidden 1\n",
    "    modelNN.add(Dense(7)) # Output\n",
    "    modelNN.compile(loss='mean_squared_error', optimizer='adam')\n",
    "    modelNN.fit(X_train,y_train,epochs=10, verbose=0)\n",
    "    pred = modelNN.predict(X_test)\n",
    "    score = np.sqrt(metrics.mean_squared_error(pred, y_test))\n",
    "    print(f\"For {nodes} - Final score (RMSE): {score}\")\n",
    "    NNscore[nodes].append(score)\n",
    "  print(f\"The most eficient is to use: {min(NNscore, key=NNscore.get)} nodes\")\n",
    "  return NNscore\n",
    "NNoptimalResultwithOneLayer(X,y)"
   ]
  },
  {
   "cell_type": "code",
   "execution_count": null,
   "id": "85d4f161",
   "metadata": {},
   "outputs": [],
   "source": [
    "from collections import defaultdict\n",
    "# One layer with RELU activation function\n",
    "def NNoptimalResultwithOneLayerRELU(X, y, minNodes = 32, maxNodes = 650, step = 32):\n",
    "  X_train, X_test, y_train, y_test = train_test_split(X, y, test_size=0.25, random_state=0)\n",
    "  NNscore = defaultdict(list)\n",
    "  for nodes in range(minNodes, maxNodes, step):\n",
    "    modelNN = Sequential()\n",
    "    modelNN.add(Dense(nodes, input_shape=X[1].shape, activation='relu')) # Hidden 1\n",
    "    modelNN.add(Dense(7)) # Output\n",
    "    modelNN.compile(loss='mean_squared_error', optimizer='adam')\n",
    "    modelNN.fit(X_train,y_train,epochs=10)\n",
    "    pred = modelNN.predict(X_test)\n",
    "    score = np.sqrt(metrics.mean_squared_error(pred, y_test))\n",
    "    print(f\"For {nodes} - Final score (RMSE): {score}\")\n",
    "    NNscore[nodes].append(score)\n",
    "  print(f\"The most eficient is to use: {min(NNscore, key=NNscore.get)} nodes\")\n",
    "  return NNscore\n",
    "NNoptimalResultwithOneLayerRELU(X,y)"
   ]
  },
  {
   "cell_type": "code",
   "execution_count": null,
   "id": "48fffeb1",
   "metadata": {},
   "outputs": [],
   "source": [
    "from collections import defaultdict\n",
    "# Two layers with RELU activation function\n",
    "def NNoptimalResultwithTwoLayerRELU(X, y, minNodes = 32, maxNodes = 650, step = 32):\n",
    "  X_train, X_test, y_train, y_test = train_test_split(X, y, test_size=0.25, random_state=0)\n",
    "  NNscore = defaultdict(list)\n",
    "  for nodes in range(minNodes, maxNodes, step):\n",
    "    modelNN = Sequential()\n",
    "    modelNN.add(Dense(nodes, input_shape=X[1].shape, activation='relu')) # Hidden 1\n",
    "    modelNN.add(Dense(nodes, input_shape=X[1].shape, activation='relu')) # Hidden 2\n",
    "    modelNN.add(Dense(7)) # Output\n",
    "    modelNN.compile(loss='mean_squared_error', optimizer='adam')\n",
    "    modelNN.fit(X_train,y_train,epochs=10)\n",
    "    pred = modelNN.predict(X_test)\n",
    "    score = np.sqrt(metrics.mean_squared_error(pred, y_test))\n",
    "    print(f\"For {nodes} - Final score (RMSE): {score}\")\n",
    "    NNscore[nodes].append(score)\n",
    "  print(f\"The most eficient is to use: {min(NNscore, key=NNscore.get)} nodes\")\n",
    "  return NNscore\n",
    "NNoptimalResultwithTwoLayerRELU(X,y)"
   ]
  },
  {
   "cell_type": "code",
   "execution_count": null,
   "id": "8591b252",
   "metadata": {},
   "outputs": [],
   "source": [
    "from collections import defaultdict\n",
    "#Two layer with sigmoid activation function\n",
    "def NNoptimalResultwithTwoLayer(X, y, minNodes = 32, maxNodes = 650, step = 32):\n",
    "  X_train, X_test, y_train, y_test = train_test_split(X, y, test_size=0.25, random_state=0)\n",
    "  NNscore = defaultdict(list)\n",
    "  for nodes in range(minNodes, maxNodes, step):\n",
    "    modelNN = Sequential()\n",
    "    modelNN.add(Dense(nodes, input_shape=X[1].shape, activation='sigmoid')) # Hidden 1\n",
    "    modelNN.add(Dense(nodes, input_shape=X[1].shape, activation='sigmoid')) # Hidden 2\n",
    "    modelNN.add(Dense(7)) # Output\n",
    "    modelNN.compile(loss='mean_squared_error', optimizer='adam')\n",
    "    modelNN.fit(X_train,y_train,epochs=10)\n",
    "    pred = modelNN.predict(X_test)\n",
    "    score = np.sqrt(metrics.mean_squared_error(pred, y_test))\n",
    "    print(f\"For {nodes} - Final score (RMSE): {score}\")\n",
    "    NNscore[nodes].append(score)\n",
    "  print(f\"The most eficient is to use: {min(NNscore, key=NNscore.get)} nodes\")\n",
    "  return NNscore\n",
    "NNoptimalResultwithTwoLayer(X,y)"
   ]
  }
 ],
 "metadata": {
  "kernelspec": {
   "display_name": "Python 3",
   "language": "python",
   "name": "python3"
  },
  "language_info": {
   "codemirror_mode": {
    "name": "ipython",
    "version": 3
   },
   "file_extension": ".py",
   "mimetype": "text/x-python",
   "name": "python",
   "nbconvert_exporter": "python",
   "pygments_lexer": "ipython3",
   "version": "3.8.8"
  }
 },
 "nbformat": 4,
 "nbformat_minor": 5
}
