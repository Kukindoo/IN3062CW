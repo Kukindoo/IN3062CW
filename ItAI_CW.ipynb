{
 "cells": [
  {
   "cell_type": "code",
   "execution_count": 8,
   "id": "e881515c",
   "metadata": {},
   "outputs": [
    {
     "name": "stdout",
     "output_type": "stream",
     "text": [
      "Reading done\n"
     ]
    }
   ],
   "source": [
    "import pandas as pd\n",
    "from sklearn.tree import DecisionTreeClassifier\n",
    "from sklearn.model_selection import train_test_split\n",
    "from sklearn.metrics import accuracy_score\n",
    "from sklearn import tree\n",
    "import joblib\n",
    "# Xtrainsat4.csv: 400,000 training images, 28x28 images each with 4 channels\n",
    "# ytrainsat4.csv: 400,000 training labels, 1x4 one-hot encoded vectors\n",
    "# Xtestsat4.csv: 100,000 training images, 28x28 images each with 4 channels\n",
    "# ytestsat4.csv: 100,000 training labels, 1x4 one-hot encoded vectors\n",
    "sateliteXtrain = pd.read_csv('dataset/X_train_sat4.csv',sep=',', header = None, chunksize=200000)    \n",
    "sateliteXtest  = pd.read_csv('dataset/X_test_sat4.csv' ,sep=',', header = None, chunksize=10000)\n",
    "sateliteYtrain = pd.read_csv('dataset/y_train_sat4.csv',sep=',', header = None, chunksize=200000)\n",
    "sateliteYtest  = pd.read_csv('dataset/y_test_sat4.csv' ,sep=',', header = None, chunksize=10000)\n",
    "print('Reading done')"
   ]
  },
  {
   "cell_type": "code",
   "execution_count": 4,
   "id": "e13101bd",
   "metadata": {},
   "outputs": [
    {
     "name": "stdout",
     "output_type": "stream",
     "text": [
      "Training done\n"
     ]
    }
   ],
   "source": [
    "model = DecisionTreeClassifier()\n",
    "model.fit(sateliteXtrain.get_chunk(50000),sateliteYtrain.get_chunk(50000))\n",
    "print('Training done')"
   ]
  },
  {
   "cell_type": "code",
   "execution_count": 5,
   "id": "1db2dbf6",
   "metadata": {},
   "outputs": [
    {
     "name": "stdout",
     "output_type": "stream",
     "text": [
      "Prediction done\n"
     ]
    }
   ],
   "source": [
    "prediction = model.predict(sateliteXtest.get_chunk(10000))\n",
    "print('Prediction done')"
   ]
  },
  {
   "cell_type": "code",
   "execution_count": 7,
   "id": "5e8d83cc",
   "metadata": {},
   "outputs": [
    {
     "name": "stdout",
     "output_type": "stream",
     "text": [
      "Accuracy= 0.267\n"
     ]
    }
   ],
   "source": [
    "score = accuracy_score(sateliteYtest.get_chunk(10000), prediction)\n",
    "print('Accuracy=', score)"
   ]
  },
  {
   "cell_type": "code",
   "execution_count": null,
   "id": "fb715043",
   "metadata": {},
   "outputs": [],
   "source": []
  }
 ],
 "metadata": {
  "kernelspec": {
   "display_name": "Python 3",
   "language": "python",
   "name": "python3"
  },
  "language_info": {
   "codemirror_mode": {
    "name": "ipython",
    "version": 3
   },
   "file_extension": ".py",
   "mimetype": "text/x-python",
   "name": "python",
   "nbconvert_exporter": "python",
   "pygments_lexer": "ipython3",
   "version": "3.8.8"
  }
 },
 "nbformat": 4,
 "nbformat_minor": 5
}
