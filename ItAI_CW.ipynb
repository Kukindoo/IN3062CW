{
 "cells": [
  {
   "cell_type": "code",
   "execution_count": 8,
   "id": "e881515c",
   "metadata": {},
   "outputs": [
    {
     "name": "stdout",
     "output_type": "stream",
     "text": [
      "Reading done\n"
     ]
    }
   ],
   "source": [
    "import pandas as pd\n",
    "from sklearn.tree import DecisionTreeClassifier\n",
    "from sklearn.model_selection import train_test_split\n",
    "from sklearn.metrics import accuracy_score\n",
    "from sklearn import tree\n",
    "import joblib\n",
    "# Xtrainsat4.csv: 400,000 training images, 28x28 images each with 4 channels\n",
    "# ytrainsat4.csv: 400,000 training labels, 1x4 one-hot encoded vectors\n",
    "# Xtestsat4.csv: 100,000 training images, 28x28 images each with 4 channels\n",
    "# ytestsat4.csv: 100,000 training labels, 1x4 one-hot encoded vectors\n",
    "sateliteXtrain = pd.read_csv('dataset/X_train_sat4.csv',sep=',', header = None, chunksize=200000)    \n",
    "sateliteXtest  = pd.read_csv('dataset/X_test_sat4.csv' ,sep=',', header = None, chunksize=10000)\n",
    "sateliteYtrain = pd.read_csv('dataset/y_train_sat4.csv',sep=',', header = None, chunksize=200000)\n",
    "sateliteYtest  = pd.read_csv('dataset/y_test_sat4.csv' ,sep=',', header = None, chunksize=10000)\n",
    "print('Reading done')"
   ]
  },
  {
   "cell_type": "code",
   "execution_count": 9,
   "id": "e13101bd",
   "metadata": {},
   "outputs": [
    {
     "name": "stdout",
     "output_type": "stream",
     "text": [
      "Training done\n"
     ]
    }
   ],
   "source": [
    "model50000 = DecisionTreeClassifier()\n",
    "model50000.fit(sateliteXtrain.get_chunk(50000),sateliteYtrain.get_chunk(50000))\n",
    "print('Training done')"
   ]
  },
  {
   "cell_type": "code",
   "execution_count": 11,
   "id": "6c61731f",
   "metadata": {},
   "outputs": [
    {
     "data": {
      "text/plain": [
       "['DT-model-50000.joblib']"
      ]
     },
     "execution_count": 11,
     "metadata": {},
     "output_type": "execute_result"
    }
   ],
   "source": [
    "joblib.dump(model50000, 'DT-model-50000.joblib')"
   ]
  },
  {
   "cell_type": "code",
   "execution_count": 10,
   "id": "c0f41964",
   "metadata": {},
   "outputs": [
    {
     "name": "stdout",
     "output_type": "stream",
     "text": [
      "Training done\n"
     ]
    }
   ],
   "source": [
    "model75000 = DecisionTreeClassifier()\n",
    "model75000.fit(sateliteXtrain.get_chunk(75000),sateliteYtrain.get_chunk(75000))\n",
    "print('Training done')"
   ]
  },
  {
   "cell_type": "code",
   "execution_count": 12,
   "id": "066601be",
   "metadata": {},
   "outputs": [
    {
     "data": {
      "text/plain": [
       "['DT-model-75000.joblib']"
      ]
     },
     "execution_count": 12,
     "metadata": {},
     "output_type": "execute_result"
    }
   ],
   "source": [
    "joblib.dump(model75000, 'DT-model-75000.joblib')"
   ]
  },
  {
   "cell_type": "code",
   "execution_count": 19,
   "id": "3bb19b77",
   "metadata": {},
   "outputs": [
    {
     "name": "stdout",
     "output_type": "stream",
     "text": [
      "Training done\n"
     ]
    }
   ],
   "source": [
    "model100000 = DecisionTreeClassifier()\n",
    "model100000.fit(sateliteXtrain.get_chunk(100000),sateliteYtrain.get_chunk(100000))\n",
    "print('Training done')"
   ]
  },
  {
   "cell_type": "code",
   "execution_count": 13,
   "id": "1db2dbf6",
   "metadata": {},
   "outputs": [
    {
     "name": "stdout",
     "output_type": "stream",
     "text": [
      "Prediction done\n"
     ]
    }
   ],
   "source": [
    "prediction50000 = model50000.predict(sateliteXtest.get_chunk(10000))\n",
    "print('Prediction done')"
   ]
  },
  {
   "cell_type": "code",
   "execution_count": 15,
   "id": "647ecd7a",
   "metadata": {},
   "outputs": [
    {
     "name": "stdout",
     "output_type": "stream",
     "text": [
      "Prediction done\n"
     ]
    }
   ],
   "source": [
    "prediction75000 = model75000.predict(sateliteXtest.get_chunk(10000))\n",
    "print('Prediction done')"
   ]
  },
  {
   "cell_type": "code",
   "execution_count": 18,
   "id": "51e760bf",
   "metadata": {},
   "outputs": [
    {
     "name": "stdout",
     "output_type": "stream",
     "text": [
      "Prediction done\n"
     ]
    }
   ],
   "source": [
    "prediction100000 = model100000.predict(sateliteXtest.get_chunk(10000))\n",
    "print('Prediction done')"
   ]
  },
  {
   "cell_type": "code",
   "execution_count": 14,
   "id": "5e8d83cc",
   "metadata": {},
   "outputs": [
    {
     "name": "stdout",
     "output_type": "stream",
     "text": [
      "Accuracy= 0.8183\n"
     ]
    }
   ],
   "source": [
    "score50000 = accuracy_score(sateliteYtest.get_chunk(10000), prediction50000)\n",
    "print('Accuracy=', score50000)"
   ]
  },
  {
   "cell_type": "code",
   "execution_count": 16,
   "id": "fb715043",
   "metadata": {},
   "outputs": [
    {
     "name": "stdout",
     "output_type": "stream",
     "text": [
      "Accuracy= 0.8362\n"
     ]
    }
   ],
   "source": [
    "score75000 = accuracy_score(sateliteYtest.get_chunk(10000), prediction75000)\n",
    "print('Accuracy=', score75000)"
   ]
  },
  {
   "cell_type": "code",
   "execution_count": null,
   "id": "4c654986",
   "metadata": {},
   "outputs": [],
   "source": [
    "score100000 = accuracy_score(sateliteYtest.get_chunk(10000), prediction100000)\n",
    "print('Accuracy=', score100000)"
   ]
  }
 ],
 "metadata": {
  "kernelspec": {
   "display_name": "Python 3",
   "language": "python",
   "name": "python3"
  },
  "language_info": {
   "codemirror_mode": {
    "name": "ipython",
    "version": 3
   },
   "file_extension": ".py",
   "mimetype": "text/x-python",
   "name": "python",
   "nbconvert_exporter": "python",
   "pygments_lexer": "ipython3",
   "version": "3.8.8"
  }
 },
 "nbformat": 4,
 "nbformat_minor": 5
}
